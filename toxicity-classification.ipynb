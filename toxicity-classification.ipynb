{
 "cells": [
  {
   "metadata": {},
   "cell_type": "markdown",
   "source": [
    "# Data\n",
    "\n",
    "The data are stored as a CSV. Each data file contains 5 columns:\n",
    "\n",
    "`count` = number of CrowdFlower users who coded each tweet (min is 3, sometimes more users coded a tweet when judgments were determined to be unreliable by CF).\n",
    "\n",
    "`hate_speech` = number of CF users who judged the tweet to be hate speech.\n",
    "\n",
    "`offensive_language` = number of CF users who judged the tweet to be offensive.\n",
    "\n",
    "`neither` = number of CF users who judged the tweet to be neither offensive nor non-offensive.\n",
    "\n",
    "`class` = class label for majority of CF users.\n",
    "  0 - hate speech\n",
    "  1 - offensive  language\n",
    "  2 - neither"
   ],
   "id": "b92272c7e7821e4f"
  },
  {
   "metadata": {
    "ExecuteTime": {
     "end_time": "2024-12-11T11:08:17.781660Z",
     "start_time": "2024-12-11T11:08:17.726230Z"
    }
   },
   "cell_type": "code",
   "source": [
    "import pandas as pd\n",
    "import numpy as np\n",
    "import matplotlib.pyplot as plt\n",
    "import re\n",
    "\n",
    "# Load data\n",
    "data = pd.read_csv('labeled_data.csv')\n",
    "\n",
    "# Display data\n",
    "data.head()"
   ],
   "id": "67a47a15837eb4b7",
   "outputs": [
    {
     "data": {
      "text/plain": [
       "   Unnamed: 0  count  hate_speech  offensive_language  neither  class  \\\n",
       "0           0      3            0                   0        3      2   \n",
       "1           1      3            0                   3        0      1   \n",
       "2           2      3            0                   3        0      1   \n",
       "3           3      3            0                   2        1      1   \n",
       "4           4      6            0                   6        0      1   \n",
       "\n",
       "                                                                                                                                          tweet  \n",
       "0  !!! RT @mayasolovely: As a woman you shouldn't complain about cleaning up your house. &amp; as a man you should always take the trash out...  \n",
       "1                                                         !!!!! RT @mleew17: boy dats cold...tyga dwn bad for cuffin dat hoe in the 1st place!!  \n",
       "2                      !!!!!!! RT @UrKindOfBrand Dawg!!!! RT @80sbaby4life: You ever fuck a bitch and she start to cry? You be confused as shit  \n",
       "3                                                                                !!!!!!!!! RT @C_G_Anderson: @viva_based she look like a tranny  \n",
       "4     !!!!!!!!!!!!! RT @ShenikaRoberts: The shit you hear about me might be true or it might be faker than the bitch who told it to ya &#57361;  "
      ],
      "text/html": [
       "<div>\n",
       "<style scoped>\n",
       "    .dataframe tbody tr th:only-of-type {\n",
       "        vertical-align: middle;\n",
       "    }\n",
       "\n",
       "    .dataframe tbody tr th {\n",
       "        vertical-align: top;\n",
       "    }\n",
       "\n",
       "    .dataframe thead th {\n",
       "        text-align: right;\n",
       "    }\n",
       "</style>\n",
       "<table border=\"1\" class=\"dataframe\">\n",
       "  <thead>\n",
       "    <tr style=\"text-align: right;\">\n",
       "      <th></th>\n",
       "      <th>Unnamed: 0</th>\n",
       "      <th>count</th>\n",
       "      <th>hate_speech</th>\n",
       "      <th>offensive_language</th>\n",
       "      <th>neither</th>\n",
       "      <th>class</th>\n",
       "      <th>tweet</th>\n",
       "    </tr>\n",
       "  </thead>\n",
       "  <tbody>\n",
       "    <tr>\n",
       "      <th>0</th>\n",
       "      <td>0</td>\n",
       "      <td>3</td>\n",
       "      <td>0</td>\n",
       "      <td>0</td>\n",
       "      <td>3</td>\n",
       "      <td>2</td>\n",
       "      <td>!!! RT @mayasolovely: As a woman you shouldn't complain about cleaning up your house. &amp;amp; as a man you should always take the trash out...</td>\n",
       "    </tr>\n",
       "    <tr>\n",
       "      <th>1</th>\n",
       "      <td>1</td>\n",
       "      <td>3</td>\n",
       "      <td>0</td>\n",
       "      <td>3</td>\n",
       "      <td>0</td>\n",
       "      <td>1</td>\n",
       "      <td>!!!!! RT @mleew17: boy dats cold...tyga dwn bad for cuffin dat hoe in the 1st place!!</td>\n",
       "    </tr>\n",
       "    <tr>\n",
       "      <th>2</th>\n",
       "      <td>2</td>\n",
       "      <td>3</td>\n",
       "      <td>0</td>\n",
       "      <td>3</td>\n",
       "      <td>0</td>\n",
       "      <td>1</td>\n",
       "      <td>!!!!!!! RT @UrKindOfBrand Dawg!!!! RT @80sbaby4life: You ever fuck a bitch and she start to cry? You be confused as shit</td>\n",
       "    </tr>\n",
       "    <tr>\n",
       "      <th>3</th>\n",
       "      <td>3</td>\n",
       "      <td>3</td>\n",
       "      <td>0</td>\n",
       "      <td>2</td>\n",
       "      <td>1</td>\n",
       "      <td>1</td>\n",
       "      <td>!!!!!!!!! RT @C_G_Anderson: @viva_based she look like a tranny</td>\n",
       "    </tr>\n",
       "    <tr>\n",
       "      <th>4</th>\n",
       "      <td>4</td>\n",
       "      <td>6</td>\n",
       "      <td>0</td>\n",
       "      <td>6</td>\n",
       "      <td>0</td>\n",
       "      <td>1</td>\n",
       "      <td>!!!!!!!!!!!!! RT @ShenikaRoberts: The shit you hear about me might be true or it might be faker than the bitch who told it to ya &amp;#57361;</td>\n",
       "    </tr>\n",
       "  </tbody>\n",
       "</table>\n",
       "</div>"
      ]
     },
     "execution_count": 104,
     "metadata": {},
     "output_type": "execute_result"
    }
   ],
   "execution_count": 104
  },
  {
   "metadata": {
    "ExecuteTime": {
     "end_time": "2024-12-11T11:08:17.831814Z",
     "start_time": "2024-12-11T11:08:17.820379Z"
    }
   },
   "cell_type": "code",
   "source": [
    "# Display data info\n",
    "data.info()"
   ],
   "id": "6271ebd6adc159",
   "outputs": [
    {
     "name": "stdout",
     "output_type": "stream",
     "text": [
      "<class 'pandas.core.frame.DataFrame'>\n",
      "RangeIndex: 24783 entries, 0 to 24782\n",
      "Data columns (total 7 columns):\n",
      " #   Column              Non-Null Count  Dtype \n",
      "---  ------              --------------  ----- \n",
      " 0   Unnamed: 0          24783 non-null  int64 \n",
      " 1   count               24783 non-null  int64 \n",
      " 2   hate_speech         24783 non-null  int64 \n",
      " 3   offensive_language  24783 non-null  int64 \n",
      " 4   neither             24783 non-null  int64 \n",
      " 5   class               24783 non-null  int64 \n",
      " 6   tweet               24783 non-null  object\n",
      "dtypes: int64(6), object(1)\n",
      "memory usage: 1.3+ MB\n"
     ]
    }
   ],
   "execution_count": 105
  },
  {
   "metadata": {
    "ExecuteTime": {
     "end_time": "2024-12-11T11:08:17.882976Z",
     "start_time": "2024-12-11T11:08:17.871130Z"
    }
   },
   "cell_type": "code",
   "source": [
    "# Display data description\n",
    "data.describe()"
   ],
   "id": "e5e42c7e6c8e6729",
   "outputs": [
    {
     "data": {
      "text/plain": [
       "         Unnamed: 0         count   hate_speech  offensive_language  \\\n",
       "count  24783.000000  24783.000000  24783.000000        24783.000000   \n",
       "mean   12681.192027      3.243473      0.280515            2.413711   \n",
       "std     7299.553863      0.883060      0.631851            1.399459   \n",
       "min        0.000000      3.000000      0.000000            0.000000   \n",
       "25%     6372.500000      3.000000      0.000000            2.000000   \n",
       "50%    12703.000000      3.000000      0.000000            3.000000   \n",
       "75%    18995.500000      3.000000      0.000000            3.000000   \n",
       "max    25296.000000      9.000000      7.000000            9.000000   \n",
       "\n",
       "            neither         class  \n",
       "count  24783.000000  24783.000000  \n",
       "mean       0.549247      1.110277  \n",
       "std        1.113299      0.462089  \n",
       "min        0.000000      0.000000  \n",
       "25%        0.000000      1.000000  \n",
       "50%        0.000000      1.000000  \n",
       "75%        0.000000      1.000000  \n",
       "max        9.000000      2.000000  "
      ],
      "text/html": [
       "<div>\n",
       "<style scoped>\n",
       "    .dataframe tbody tr th:only-of-type {\n",
       "        vertical-align: middle;\n",
       "    }\n",
       "\n",
       "    .dataframe tbody tr th {\n",
       "        vertical-align: top;\n",
       "    }\n",
       "\n",
       "    .dataframe thead th {\n",
       "        text-align: right;\n",
       "    }\n",
       "</style>\n",
       "<table border=\"1\" class=\"dataframe\">\n",
       "  <thead>\n",
       "    <tr style=\"text-align: right;\">\n",
       "      <th></th>\n",
       "      <th>Unnamed: 0</th>\n",
       "      <th>count</th>\n",
       "      <th>hate_speech</th>\n",
       "      <th>offensive_language</th>\n",
       "      <th>neither</th>\n",
       "      <th>class</th>\n",
       "    </tr>\n",
       "  </thead>\n",
       "  <tbody>\n",
       "    <tr>\n",
       "      <th>count</th>\n",
       "      <td>24783.000000</td>\n",
       "      <td>24783.000000</td>\n",
       "      <td>24783.000000</td>\n",
       "      <td>24783.000000</td>\n",
       "      <td>24783.000000</td>\n",
       "      <td>24783.000000</td>\n",
       "    </tr>\n",
       "    <tr>\n",
       "      <th>mean</th>\n",
       "      <td>12681.192027</td>\n",
       "      <td>3.243473</td>\n",
       "      <td>0.280515</td>\n",
       "      <td>2.413711</td>\n",
       "      <td>0.549247</td>\n",
       "      <td>1.110277</td>\n",
       "    </tr>\n",
       "    <tr>\n",
       "      <th>std</th>\n",
       "      <td>7299.553863</td>\n",
       "      <td>0.883060</td>\n",
       "      <td>0.631851</td>\n",
       "      <td>1.399459</td>\n",
       "      <td>1.113299</td>\n",
       "      <td>0.462089</td>\n",
       "    </tr>\n",
       "    <tr>\n",
       "      <th>min</th>\n",
       "      <td>0.000000</td>\n",
       "      <td>3.000000</td>\n",
       "      <td>0.000000</td>\n",
       "      <td>0.000000</td>\n",
       "      <td>0.000000</td>\n",
       "      <td>0.000000</td>\n",
       "    </tr>\n",
       "    <tr>\n",
       "      <th>25%</th>\n",
       "      <td>6372.500000</td>\n",
       "      <td>3.000000</td>\n",
       "      <td>0.000000</td>\n",
       "      <td>2.000000</td>\n",
       "      <td>0.000000</td>\n",
       "      <td>1.000000</td>\n",
       "    </tr>\n",
       "    <tr>\n",
       "      <th>50%</th>\n",
       "      <td>12703.000000</td>\n",
       "      <td>3.000000</td>\n",
       "      <td>0.000000</td>\n",
       "      <td>3.000000</td>\n",
       "      <td>0.000000</td>\n",
       "      <td>1.000000</td>\n",
       "    </tr>\n",
       "    <tr>\n",
       "      <th>75%</th>\n",
       "      <td>18995.500000</td>\n",
       "      <td>3.000000</td>\n",
       "      <td>0.000000</td>\n",
       "      <td>3.000000</td>\n",
       "      <td>0.000000</td>\n",
       "      <td>1.000000</td>\n",
       "    </tr>\n",
       "    <tr>\n",
       "      <th>max</th>\n",
       "      <td>25296.000000</td>\n",
       "      <td>9.000000</td>\n",
       "      <td>7.000000</td>\n",
       "      <td>9.000000</td>\n",
       "      <td>9.000000</td>\n",
       "      <td>2.000000</td>\n",
       "    </tr>\n",
       "  </tbody>\n",
       "</table>\n",
       "</div>"
      ]
     },
     "execution_count": 106,
     "metadata": {},
     "output_type": "execute_result"
    }
   ],
   "execution_count": 106
  },
  {
   "metadata": {
    "ExecuteTime": {
     "end_time": "2024-12-11T11:08:17.921851Z",
     "start_time": "2024-12-11T11:08:17.918963Z"
    }
   },
   "cell_type": "code",
   "source": [
    "# Display data class distribution\n",
    "data['class'].value_counts()"
   ],
   "id": "33e6be57d6e7261e",
   "outputs": [
    {
     "data": {
      "text/plain": [
       "class\n",
       "1    19190\n",
       "2     4163\n",
       "0     1430\n",
       "Name: count, dtype: int64"
      ]
     },
     "execution_count": 107,
     "metadata": {},
     "output_type": "execute_result"
    }
   ],
   "execution_count": 107
  },
  {
   "metadata": {
    "ExecuteTime": {
     "end_time": "2024-12-11T11:08:18.142218Z",
     "start_time": "2024-12-11T11:08:17.973286Z"
    }
   },
   "cell_type": "code",
   "source": [
    "# Display data class distribution\n",
    "import seaborn as sns\n",
    "\n",
    "sns.countplot(x='class', data=data)\n",
    "plt.title('Distribution des Classes (0: hate speech, 1: offensive, 2: neither)')\n",
    "plt.show()"
   ],
   "id": "d69ddb81490d5143",
   "outputs": [
    {
     "data": {
      "text/plain": [
       "<Figure size 640x480 with 1 Axes>"
      ],
      "image/png": "[encoded data removed]"
     },
     "metadata": {},
     "output_type": "display_data"
    }
   ],
   "execution_count": 108
  },
  {
   "metadata": {
    "ExecuteTime": {
     "end_time": "2024-12-11T11:08:18.207028Z",
     "start_time": "2024-12-11T11:08:18.197335Z"
    }
   },
   "cell_type": "code",
   "source": [
    "# drop useless unnamed column\n",
    "data.drop(columns=['Unnamed: 0'], inplace=True)\n",
    "\n",
    "data.head()"
   ],
   "id": "3b9da18b0e382367",
   "outputs": [
    {
     "data": {
      "text/plain": [
       "   count  hate_speech  offensive_language  neither  class  \\\n",
       "0      3            0                   0        3      2   \n",
       "1      3            0                   3        0      1   \n",
       "2      3            0                   3        0      1   \n",
       "3      3            0                   2        1      1   \n",
       "4      6            0                   6        0      1   \n",
       "\n",
       "                                                                                                                                          tweet  \n",
       "0  !!! RT @mayasolovely: As a woman you shouldn't complain about cleaning up your house. &amp; as a man you should always take the trash out...  \n",
       "1                                                         !!!!! RT @mleew17: boy dats cold...tyga dwn bad for cuffin dat hoe in the 1st place!!  \n",
       "2                      !!!!!!! RT @UrKindOfBrand Dawg!!!! RT @80sbaby4life: You ever fuck a bitch and she start to cry? You be confused as shit  \n",
       "3                                                                                !!!!!!!!! RT @C_G_Anderson: @viva_based she look like a tranny  \n",
       "4     !!!!!!!!!!!!! RT @ShenikaRoberts: The shit you hear about me might be true or it might be faker than the bitch who told it to ya &#57361;  "
      ],
      "text/html": [
       "<div>\n",
       "<style scoped>\n",
       "    .dataframe tbody tr th:only-of-type {\n",
       "        vertical-align: middle;\n",
       "    }\n",
       "\n",
       "    .dataframe tbody tr th {\n",
       "        vertical-align: top;\n",
       "    }\n",
       "\n",
       "    .dataframe thead th {\n",
       "        text-align: right;\n",
       "    }\n",
       "</style>\n",
       "<table border=\"1\" class=\"dataframe\">\n",
       "  <thead>\n",
       "    <tr style=\"text-align: right;\">\n",
       "      <th></th>\n",
       "      <th>count</th>\n",
       "      <th>hate_speech</th>\n",
       "      <th>offensive_language</th>\n",
       "      <th>neither</th>\n",
       "      <th>class</th>\n",
       "      <th>tweet</th>\n",
       "    </tr>\n",
       "  </thead>\n",
       "  <tbody>\n",
       "    <tr>\n",
       "      <th>0</th>\n",
       "      <td>3</td>\n",
       "      <td>0</td>\n",
       "      <td>0</td>\n",
       "      <td>3</td>\n",
       "      <td>2</td>\n",
       "      <td>!!! RT @mayasolovely: As a woman you shouldn't complain about cleaning up your house. &amp;amp; as a man you should always take the trash out...</td>\n",
       "    </tr>\n",
       "    <tr>\n",
       "      <th>1</th>\n",
       "      <td>3</td>\n",
       "      <td>0</td>\n",
       "      <td>3</td>\n",
       "      <td>0</td>\n",
       "      <td>1</td>\n",
       "      <td>!!!!! RT @mleew17: boy dats cold...tyga dwn bad for cuffin dat hoe in the 1st place!!</td>\n",
       "    </tr>\n",
       "    <tr>\n",
       "      <th>2</th>\n",
       "      <td>3</td>\n",
       "      <td>0</td>\n",
       "      <td>3</td>\n",
       "      <td>0</td>\n",
       "      <td>1</td>\n",
       "      <td>!!!!!!! RT @UrKindOfBrand Dawg!!!! RT @80sbaby4life: You ever fuck a bitch and she start to cry? You be confused as shit</td>\n",
       "    </tr>\n",
       "    <tr>\n",
       "      <th>3</th>\n",
       "      <td>3</td>\n",
       "      <td>0</td>\n",
       "      <td>2</td>\n",
       "      <td>1</td>\n",
       "      <td>1</td>\n",
       "      <td>!!!!!!!!! RT @C_G_Anderson: @viva_based she look like a tranny</td>\n",
       "    </tr>\n",
       "    <tr>\n",
       "      <th>4</th>\n",
       "      <td>6</td>\n",
       "      <td>0</td>\n",
       "      <td>6</td>\n",
       "      <td>0</td>\n",
       "      <td>1</td>\n",
       "      <td>!!!!!!!!!!!!! RT @ShenikaRoberts: The shit you hear about me might be true or it might be faker than the bitch who told it to ya &amp;#57361;</td>\n",
       "    </tr>\n",
       "  </tbody>\n",
       "</table>\n",
       "</div>"
      ]
     },
     "execution_count": 109,
     "metadata": {},
     "output_type": "execute_result"
    }
   ],
   "execution_count": 109
  },
  {
   "metadata": {
    "ExecuteTime": {
     "end_time": "2024-12-11T11:08:18.295370Z",
     "start_time": "2024-12-11T11:08:18.288522Z"
    }
   },
   "cell_type": "code",
   "source": [
    "# Check random tweet from each class\n",
    "\n",
    "print('Hate Speech:')\n",
    "print(data[data['class'] == 0]['tweet'].values[0])\n",
    "\n",
    "print('Offensive Language:')\n",
    "print(data[data['class'] == 1]['tweet'].values[0])\n",
    "\n",
    "print('Neither:')\n",
    "print(data[data['class'] == 2]['tweet'].values[0])"
   ],
   "id": "b75c3538aad60213",
   "outputs": [
    {
     "name": "stdout",
     "output_type": "stream",
     "text": [
      "Hate Speech:\n",
      "\"@Blackman38Tide: @WhaleLookyHere @HowdyDowdy11 queer\" gaywad\n",
      "Offensive Language:\n",
      "!!!!! RT @mleew17: boy dats cold...tyga dwn bad for cuffin dat hoe in the 1st place!!\n",
      "Neither:\n",
      "!!! RT @mayasolovely: As a woman you shouldn't complain about cleaning up your house. &amp; as a man you should always take the trash out...\n"
     ]
    }
   ],
   "execution_count": 110
  },
  {
   "metadata": {
    "ExecuteTime": {
     "end_time": "2024-12-11T11:08:18.358103Z",
     "start_time": "2024-12-11T11:08:18.344228Z"
    }
   },
   "cell_type": "code",
   "source": [
    "# Let's concatenate offensive and hate speech classes\n",
    "\n",
    "data['class'] = data['class'].apply(lambda x: 1 if x in [0, 1] else 0)\n",
    "\n",
    "# cut the data to 4000 samples for each class\n",
    "\n",
    "nb_samples = 2000\n",
    "\n",
    "data = pd.concat([\n",
    "    data[data['class'] == 1].sample(nb_samples, random_state=42),\n",
    "    data[data['class'] == 0].sample(nb_samples, random_state=42)\n",
    "])\n",
    "\n",
    "data['class'].value_counts()"
   ],
   "id": "cfacf92c004cedc7",
   "outputs": [
    {
     "data": {
      "text/plain": [
       "class\n",
       "1    2000\n",
       "0    2000\n",
       "Name: count, dtype: int64"
      ]
     },
     "execution_count": 111,
     "metadata": {},
     "output_type": "execute_result"
    }
   ],
   "execution_count": 111
  },
  {
   "metadata": {},
   "cell_type": "markdown",
   "source": "Those are tweets so we need to clean them like removing special characters, links, @mentions, etc.",
   "id": "618026e22274999c"
  },
  {
   "metadata": {
    "ExecuteTime": {
     "end_time": "2024-12-11T11:08:18.437931Z",
     "start_time": "2024-12-11T11:08:18.405339Z"
    }
   },
   "cell_type": "code",
   "source": [
    "def clean_text(text):\n",
    "    # rm @mentions\n",
    "    text = re.sub(r'@\\w+', '', text)\n",
    "\n",
    "    # rm RT\n",
    "    text = re.sub(r'\\brt\\b', '', text, flags=re.IGNORECASE)\n",
    "\n",
    "    # rm hashtags\n",
    "    text = re.sub(r'#\\w+', '', text)\n",
    "\n",
    "    # rm links\n",
    "    text = re.sub(r'http\\S+|www\\S+|https\\S+', '', text, flags=re.MULTILINE)\n",
    "\n",
    "    # rm special characters\n",
    "    text = re.sub(r'[^a-zA-Z\\s]', '', text)\n",
    "\n",
    "    # rm extra spaces\n",
    "    text = re.sub(r'\\s+', ' ', text).strip()\n",
    "\n",
    "    # lowercase\n",
    "    text = text.lower()\n",
    "\n",
    "    return text\n",
    "\n",
    "data['tweet'] = data['tweet'].apply(clean_text)\n",
    "\n",
    "data.head()"
   ],
   "id": "85c9025b383cdad1",
   "outputs": [
    {
     "data": {
      "text/plain": [
       "       count  hate_speech  offensive_language  neither  class  \\\n",
       "7430       3            0                   3        0      1   \n",
       "19496      3            0                   3        0      1   \n",
       "19218      3            0                   3        0      1   \n",
       "22117      3            0                   3        0      1   \n",
       "10151      3            0                   3        0      1   \n",
       "\n",
       "                                                                                                                                        tweet  \n",
       "7430   a girlfriend is almost a bill lowkey so at this point in my life where i should be gettin outta my moms crib ill rather just have hoes  \n",
       "19496                                                                                                                             bitch nigga  \n",
       "19218                                                                               fuck ur wcwlet me see wat ur current bitch look like oowe  \n",
       "22117                                                                                                                   this niggah is a fool  \n",
       "10151                                                i cheated on of the bitches i had tf lol nobody even wanted to be all committed and shit  "
      ],
      "text/html": [
       "<div>\n",
       "<style scoped>\n",
       "    .dataframe tbody tr th:only-of-type {\n",
       "        vertical-align: middle;\n",
       "    }\n",
       "\n",
       "    .dataframe tbody tr th {\n",
       "        vertical-align: top;\n",
       "    }\n",
       "\n",
       "    .dataframe thead th {\n",
       "        text-align: right;\n",
       "    }\n",
       "</style>\n",
       "<table border=\"1\" class=\"dataframe\">\n",
       "  <thead>\n",
       "    <tr style=\"text-align: right;\">\n",
       "      <th></th>\n",
       "      <th>count</th>\n",
       "      <th>hate_speech</th>\n",
       "      <th>offensive_language</th>\n",
       "      <th>neither</th>\n",
       "      <th>class</th>\n",
       "      <th>tweet</th>\n",
       "    </tr>\n",
       "  </thead>\n",
       "  <tbody>\n",
       "    <tr>\n",
       "      <th>7430</th>\n",
       "      <td>3</td>\n",
       "      <td>0</td>\n",
       "      <td>3</td>\n",
       "      <td>0</td>\n",
       "      <td>1</td>\n",
       "      <td>a girlfriend is almost a bill lowkey so at this point in my life where i should be gettin outta my moms crib ill rather just have hoes</td>\n",
       "    </tr>\n",
       "    <tr>\n",
       "      <th>19496</th>\n",
       "      <td>3</td>\n",
       "      <td>0</td>\n",
       "      <td>3</td>\n",
       "      <td>0</td>\n",
       "      <td>1</td>\n",
       "      <td>bitch nigga</td>\n",
       "    </tr>\n",
       "    <tr>\n",
       "      <th>19218</th>\n",
       "      <td>3</td>\n",
       "      <td>0</td>\n",
       "      <td>3</td>\n",
       "      <td>0</td>\n",
       "      <td>1</td>\n",
       "      <td>fuck ur wcwlet me see wat ur current bitch look like oowe</td>\n",
       "    </tr>\n",
       "    <tr>\n",
       "      <th>22117</th>\n",
       "      <td>3</td>\n",
       "      <td>0</td>\n",
       "      <td>3</td>\n",
       "      <td>0</td>\n",
       "      <td>1</td>\n",
       "      <td>this niggah is a fool</td>\n",
       "    </tr>\n",
       "    <tr>\n",
       "      <th>10151</th>\n",
       "      <td>3</td>\n",
       "      <td>0</td>\n",
       "      <td>3</td>\n",
       "      <td>0</td>\n",
       "      <td>1</td>\n",
       "      <td>i cheated on of the bitches i had tf lol nobody even wanted to be all committed and shit</td>\n",
       "    </tr>\n",
       "  </tbody>\n",
       "</table>\n",
       "</div>"
      ]
     },
     "execution_count": 112,
     "metadata": {},
     "output_type": "execute_result"
    }
   ],
   "execution_count": 112
  },
  {
   "metadata": {
    "ExecuteTime": {
     "end_time": "2024-12-11T11:08:18.490553Z",
     "start_time": "2024-12-11T11:08:18.488317Z"
    }
   },
   "cell_type": "code",
   "source": [
    "X=data['tweet'].tolist()\n",
    "y=data['class'].tolist()"
   ],
   "id": "f87887a0c7067feb",
   "outputs": [],
   "execution_count": 113
  },
  {
   "metadata": {
    "ExecuteTime": {
     "end_time": "2024-12-11T11:08:18.548427Z",
     "start_time": "2024-12-11T11:08:18.543597Z"
    }
   },
   "cell_type": "code",
   "source": [
    "from sklearn.model_selection import train_test_split\n",
    "from sklearn.preprocessing import LabelEncoder\n",
    "\n",
    "label_encoder = LabelEncoder()\n",
    "y = label_encoder.fit_transform(y)\n",
    "\n",
    "X_train, X_test, y_train, y_test = train_test_split(X, y, test_size=0.2, random_state=42)"
   ],
   "id": "5dc3be41fee63804",
   "outputs": [],
   "execution_count": 114
  },
  {
   "metadata": {
    "ExecuteTime": {
     "end_time": "2024-12-11T11:08:18.578660Z",
     "start_time": "2024-12-11T11:08:18.569108Z"
    }
   },
   "cell_type": "code",
   "source": [
    "# create huggingface dataset\n",
    "from datasets import Dataset\n",
    "\n",
    "train_dataset = Dataset.from_dict({'text': X_train, 'label': y_train})\n",
    "test_dataset = Dataset.from_dict({'text': X_test, 'label': y_test})"
   ],
   "id": "86778360a93e0649",
   "outputs": [],
   "execution_count": 115
  },
  {
   "metadata": {
    "ExecuteTime": {
     "end_time": "2024-12-11T11:08:21.239080Z",
     "start_time": "2024-12-11T11:08:18.611756Z"
    }
   },
   "cell_type": "code",
   "source": [
    "# Load tokenizer and model\n",
    "from transformers import DistilBertTokenizer, DistilBertForSequenceClassification, TrainingArguments\n",
    "\n",
    "model_name = \"distilbert-base-multilingual-cased\"\n",
    "tokenizer = DistilBertTokenizer.from_pretrained(model_name)\n",
    "model = DistilBertForSequenceClassification.from_pretrained(model_name, num_labels=3)"
   ],
   "id": "e96c112cdb55c76b",
   "outputs": [
    {
     "name": "stderr",
     "output_type": "stream",
     "text": [
      "/Users/maxoum/miniconda3/envs/nlp-env/lib/python3.10/site-packages/huggingface_hub/file_download.py:1150: FutureWarning: `resume_download` is deprecated and will be removed in version 1.0.0. Downloads always resume when possible. If you want to force a new download, use `force_download=True`.\n",
      "  warnings.warn(\n",
      "Some weights of DistilBertForSequenceClassification were not initialized from the model checkpoint at distilbert-base-multilingual-cased and are newly initialized: ['classifier.bias', 'pre_classifier.weight', 'classifier.weight', 'pre_classifier.bias']\n",
      "You should probably TRAIN this model on a down-stream task to be able to use it for predictions and inference.\n"
     ]
    }
   ],
   "execution_count": 116
  },
  {
   "metadata": {
    "ExecuteTime": {
     "end_time": "2024-12-11T11:08:22.972535Z",
     "start_time": "2024-12-11T11:08:21.248017Z"
    }
   },
   "cell_type": "code",
   "source": [
    "# Tokenize data\n",
    "\n",
    "def tokenize_function(batch):\n",
    "    return tokenizer(batch[\"text\"], padding=\"max_length\", truncation=True)\n",
    "\n",
    "train_dataset = train_dataset.map(tokenize_function, batched=True)\n",
    "test_dataset = test_dataset.map(tokenize_function, batched=True)"
   ],
   "id": "b99ffa0d961ea891",
   "outputs": [
    {
     "data": {
      "text/plain": [
       "Map:   0%|          | 0/3200 [00:00<?, ? examples/s]"
      ],
      "application/vnd.jupyter.widget-view+json": {
       "version_major": 2,
       "version_minor": 0,
       "model_id": "44cf2c71022c4e92b412f3869f4db04f"
      }
     },
     "metadata": {},
     "output_type": "display_data"
    },
    {
     "data": {
      "text/plain": [
       "Map:   0%|          | 0/800 [00:00<?, ? examples/s]"
      ],
      "application/vnd.jupyter.widget-view+json": {
       "version_major": 2,
       "version_minor": 0,
       "model_id": "736dedd2190f4f818de45a8f70404719"
      }
     },
     "metadata": {},
     "output_type": "display_data"
    }
   ],
   "execution_count": 117
  },
  {
   "metadata": {
    "ExecuteTime": {
     "end_time": "2024-12-11T11:08:22.982475Z",
     "start_time": "2024-12-11T11:08:22.980268Z"
    }
   },
   "cell_type": "code",
   "source": [
    "import torch\n",
    "from transformers import Trainer\n",
    "import accelerate\n",
    "from sklearn.metrics import precision_recall_fscore_support, accuracy_score\n",
    "\n",
    "print(\"PyTorch version:\", torch.__version__)\n",
    "print(\"Accelerate version:\", accelerate.__version__)\n"
   ],
   "id": "c64e63b6ceff6786",
   "outputs": [
    {
     "name": "stdout",
     "output_type": "stream",
     "text": [
      "PyTorch version: 2.5.1\n",
      "Accelerate version: 0.23.0\n"
     ]
    }
   ],
   "execution_count": 118
  },
  {
   "metadata": {
    "ExecuteTime": {
     "end_time": "2024-12-11T11:08:23.058011Z",
     "start_time": "2024-12-11T11:08:23.054787Z"
    }
   },
   "cell_type": "code",
   "source": [
    "torch.set_num_threads(8)  # On fixe le nombre de threads à 8\n",
    "\n",
    "print(torch.get_num_threads())  # Nombre de threads utilisés"
   ],
   "id": "4f17b04cec5a3801",
   "outputs": [
    {
     "name": "stdout",
     "output_type": "stream",
     "text": [
      "8\n"
     ]
    }
   ],
   "execution_count": 119
  },
  {
   "metadata": {
    "jupyter": {
     "is_executing": true
    },
    "ExecuteTime": {
     "start_time": "2024-12-11T11:08:23.144631Z"
    }
   },
   "cell_type": "code",
   "source": [
    "# Define metrics\n",
    "\n",
    "def compute_metrics(eval_pred):\n",
    "    logits, labels = eval_pred\n",
    "    predictions = logits.argmax(axis=-1)\n",
    "    precision, recall, f1, _ = precision_recall_fscore_support(labels, predictions, average=\"binary\", zero_division=0)\n",
    "    accuracy = accuracy_score(labels, predictions)\n",
    "    return {\n",
    "        'accuracy': accuracy,\n",
    "        'precision': precision,\n",
    "        'recall': recall,\n",
    "        'f1': f1,\n",
    "    }\n",
    "\n",
    "# Define training arguments\n",
    "\n",
    "training_args = TrainingArguments(\n",
    "    output_dir='./results',\n",
    "    evaluation_strategy=\"epoch\",\n",
    "    save_strategy=\"epoch\",\n",
    "    logging_strategy=\"epoch\",\n",
    "    learning_rate=5e-4,\n",
    "    per_device_train_batch_size=32,\n",
    "    per_device_eval_batch_size=32,\n",
    "    num_train_epochs=3,\n",
    "    weight_decay=0.01,\n",
    "    logging_dir='./logs',\n",
    "    dataloader_num_workers=6,\n",
    "    report_to=\"none\",\n",
    ")\n",
    "\n",
    "\n",
    "trainer = Trainer(\n",
    "    model=model,\n",
    "    args=training_args,\n",
    "    train_dataset=train_dataset,\n",
    "    eval_dataset=test_dataset,\n",
    "    compute_metrics=compute_metrics\n",
    ")\n",
    "\n",
    "trainer.train()"
   ],
   "id": "13cbcd68eb0937cc",
   "outputs": [
    {
     "name": "stderr",
     "output_type": "stream",
     "text": [
      "python(54753) MallocStackLogging: can't turn off malloc stack logging because it was not enabled.\n",
      "python(54754) MallocStackLogging: can't turn off malloc stack logging because it was not enabled.\n",
      "python(54756) MallocStackLogging: can't turn off malloc stack logging because it was not enabled.\n",
      "python(54758) MallocStackLogging: can't turn off malloc stack logging because it was not enabled.\n"
     ]
    }
   ],
   "execution_count": null
  },
  {
   "metadata": {
    "ExecuteTime": {
     "end_time": "2024-12-11T11:03:56.764106Z",
     "start_time": "2024-12-11T10:30:23.268139Z"
    }
   },
   "cell_type": "code",
   "source": "trainer.evaluate()",
   "id": "107b6e69dc0f5f35",
   "outputs": [
    {
     "name": "stderr",
     "output_type": "stream",
     "text": [
      "python(54065) MallocStackLogging: can't turn off malloc stack logging because it was not enabled.\n",
      "python(54070) MallocStackLogging: can't turn off malloc stack logging because it was not enabled.\n",
      "python(54073) MallocStackLogging: can't turn off malloc stack logging because it was not enabled.\n",
      "python(54075) MallocStackLogging: can't turn off malloc stack logging because it was not enabled.\n",
      "python(54077) MallocStackLogging: can't turn off malloc stack logging because it was not enabled.\n",
      "python(54079) MallocStackLogging: can't turn off malloc stack logging because it was not enabled.\n"
     ]
    },
    {
     "data": {
      "text/plain": [
       "<IPython.core.display.HTML object>"
      ],
      "text/html": [
       "\n",
       "    <div>\n",
       "      \n",
       "      <progress value='25' max='25' style='width:300px; height:20px; vertical-align: middle;'></progress>\n",
       "      [25/25 00:37]\n",
       "    </div>\n",
       "    "
      ]
     },
     "metadata": {},
     "output_type": "display_data"
    },
    {
     "data": {
      "text/plain": [
       "{'eval_loss': 0.3362252712249756,\n",
       " 'eval_accuracy': 0.895,\n",
       " 'eval_precision': 0.9485714285714286,\n",
       " 'eval_recall': 0.8341708542713567,\n",
       " 'eval_f1': 0.8877005347593583,\n",
       " 'eval_runtime': 46.6229,\n",
       " 'eval_samples_per_second': 8.579,\n",
       " 'eval_steps_per_second': 0.536,\n",
       " 'epoch': 3.0}"
      ]
     },
     "execution_count": 75,
     "metadata": {},
     "output_type": "execute_result"
    }
   ],
   "execution_count": 75
  },
  {
   "metadata": {
    "ExecuteTime": {
     "end_time": "2024-12-11T11:03:56.878138Z",
     "start_time": "2024-12-11T10:33:28.660390Z"
    }
   },
   "cell_type": "code",
   "source": [
    "# Save model\n",
    "model.save_pretrained('distilbert-toxicity')\n",
    "\n",
    "# Save tokenizer\n",
    "tokenizer.save_pretrained('distilbert-toxicity')"
   ],
   "id": "bf3446574dae9643",
   "outputs": [
    {
     "data": {
      "text/plain": [
       "('distilbert-toxicity/tokenizer_config.json',\n",
       " 'distilbert-toxicity/special_tokens_map.json',\n",
       " 'distilbert-toxicity/vocab.txt',\n",
       " 'distilbert-toxicity/added_tokens.json')"
      ]
     },
     "execution_count": 76,
     "metadata": {},
     "output_type": "execute_result"
    }
   ],
   "execution_count": 76
  },
  {
   "metadata": {
    "ExecuteTime": {
     "end_time": "2024-12-11T11:03:56.919271Z",
     "start_time": "2024-12-11T10:36:15.621707Z"
    }
   },
   "cell_type": "code",
   "source": [
    "# Load model\n",
    "from transformers import DistilBertForSequenceClassification, DistilBertTokenizer\n",
    "\n",
    "model = DistilBertForSequenceClassification.from_pretrained('distilbert-toxicity')\n",
    "\n",
    "tokenizer = DistilBertTokenizer.from_pretrained('distilbert-toxicity')\n"
   ],
   "id": "a8ea5f449c453639",
   "outputs": [
    {
     "name": "stderr",
     "output_type": "stream",
     "text": [
      "/Users/maxoum/miniconda3/envs/nlp-env/lib/python3.10/site-packages/transformers/modeling_utils.py:479: FutureWarning: You are using `torch.load` with `weights_only=False` (the current default value), which uses the default pickle module implicitly. It is possible to construct malicious pickle data which will execute arbitrary code during unpickling (See https://github.com/pytorch/pytorch/blob/main/SECURITY.md#untrusted-models for more details). In a future release, the default value for `weights_only` will be flipped to `True`. This limits the functions that could be executed during unpickling. Arbitrary objects will no longer be allowed to be loaded via this mode unless they are explicitly allowlisted by the user via `torch.serialization.add_safe_globals`. We recommend you start setting `weights_only=True` for any use case where you don't have full control of the loaded file. Please open an issue on GitHub for any issues related to this experimental feature.\n",
      "  return torch.load(checkpoint_file, map_location=map_location)\n"
     ]
    }
   ],
   "execution_count": 80
  },
  {
   "metadata": {
    "ExecuteTime": {
     "end_time": "2024-12-11T11:03:56.921474Z",
     "start_time": "2024-12-11T10:38:10.217028Z"
    }
   },
   "cell_type": "code",
   "source": [
    "model.eval()\n",
    "\n",
    "def predict_toxicity(sentence):\n",
    "    inputs = tokenizer(sentence, return_tensors=\"pt\", truncation=True, padding=True)\n",
    "\n",
    "    with torch.no_grad():\n",
    "        logits = model(**inputs).logits\n",
    "\n",
    "    # Convertir les logits en probabilités\n",
    "    probabilities = torch.nn.functional.softmax(logits, dim=1).squeeze().tolist()\n",
    "\n",
    "    # Retourner le pourcentage pour chaque classe\n",
    "    toxic_pct = probabilities[1] * 100\n",
    "    non_toxic_pct = probabilities[0] * 100\n",
    "\n",
    "    return {\"Non-toxic\": non_toxic_pct, \"Toxic\": toxic_pct}\n",
    "\n",
    "# Exemple d'utilisation\n",
    "sentence = \"\"\n",
    "result = predict_toxicity(sentence)\n",
    "\n",
    "print(result)"
   ],
   "id": "625f0a86e4196b7a",
   "outputs": [
    {
     "name": "stdout",
     "output_type": "stream",
     "text": [
      "{'Non-toxic': 89.17442560195923, 'Toxic': 10.819506645202637}\n"
     ]
    }
   ],
   "execution_count": 85
  },
  {
   "metadata": {},
   "cell_type": "code",
   "outputs": [],
   "execution_count": null,
   "source": "",
   "id": "54099eccfc8997d0"
  }
 ],
 "metadata": {
  "kernelspec": {
   "display_name": "Python 3",
   "language": "python",
   "name": "python3"
  },
  "language_info": {
   "codemirror_mode": {
    "name": "ipython",
    "version": 2
   },
   "file_extension": ".py",
   "mimetype": "text/x-python",
   "name": "python",
   "nbconvert_exporter": "python",
   "pygments_lexer": "ipython2",
   "version": "2.7.6"
  }
 },
 "nbformat": 4,
 "nbformat_minor": 5
}
